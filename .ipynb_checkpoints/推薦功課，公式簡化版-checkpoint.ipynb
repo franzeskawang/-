{
 "cells": [
  {
   "cell_type": "code",
   "execution_count": 1,
   "metadata": {
    "collapsed": true
   },
   "outputs": [],
   "source": [
    "#%matplotlib inline\n",
    "import numpy as np\n",
    "#import matplotlib.pyplot as plt\n",
    "import pandas as pd\n",
    "import gc\n",
    "import random as rd\n",
    "from ipywidgets import interact\n",
    "import re\n",
    "import time\n",
    "gc.enable()"
   ]
  },
  {
   "cell_type": "code",
   "execution_count": 2,
   "metadata": {
    "collapsed": true
   },
   "outputs": [],
   "source": [
    "#首次讀進資料\n",
    "#NewYork_Data_list=list(pd.read_table(\"testfile.txt\", sep=\" \",header=None).values)\n",
    "\n",
    "#記憶體配置\n",
    "loc_to_num=[]#地址to對應的數字\n",
    "user_loc={}#user去過的地方&次數\n",
    "Table_list=loc_to_num\n",
    "Data_dict=user_loc\n"
   ]
  },
  {
   "cell_type": "code",
   "execution_count": 3,
   "metadata": {
    "collapsed": true
   },
   "outputs": [],
   "source": [
    "#body(短的list) \n",
    "#tail(常的list)\n",
    "def tail_connect(body,tail): \n",
    "    #身體長度\n",
    "    body_length=len(body)\n",
    "    #尾巴歸零\n",
    "    tail_zero = [0] * len(tail[body_length:])\n",
    "    #尾巴接起來\n",
    "    body+=tail_zero\n",
    "    return \n",
    "\n",
    "def initial_and_plus(key,value,data_dict=Data_dict,table_list=Table_list):\n",
    "                  #table_list.index(value)找到地址對應的數字\n",
    "    data_dict[key][table_list.index(value)]+=1#賦值或是增加\n",
    "    #print(\"+1->\",user_loc[user])\n",
    "    return"
   ]
  },
  {
   "cell_type": "code",
   "execution_count": 4,
   "metadata": {
    "collapsed": true
   },
   "outputs": [],
   "source": [
    "def update(key,value,data_dict=Data_dict,table_list=Table_list):\n",
    "    if value not in table_list:\n",
    "        table_list.append(value)#list中可找到該資料\n",
    "        \n",
    "    try:\n",
    "        tail_connect(data_dict[key],table_list)#不管有沒有去過都先接尾巴\n",
    "    except KeyError:\n",
    "        data_dict[key]=[]\n",
    "        tail_connect(data_dict[key],table_list)#不管是誰都有了最新版尾巴\n",
    "        \n",
    "    finally:\n",
    "        try:          \n",
    "            initial_and_plus(key,value)#賦值\n",
    "        except Exception:\n",
    "            print(\"此處發生異常\")    \n",
    "\n",
    "#假裝是對的    \n",
    "    return data_dict,table_list"
   ]
  },
  {
   "cell_type": "code",
   "execution_count": null,
   "metadata": {
    "scrolled": true
   },
   "outputs": [],
   "source": [
    "#Data_arrange\n",
    "\n",
    "#首次讀進資料\n",
    "NewYork_Data_list=list(pd.read_table(\"NewYork_Data.txt\", sep=\" \",header=None).values)\n",
    "               \n",
    "def insert_data():\n",
    "    s=NewYork_Data_list.pop()\n",
    "    parts= re.split(r'[;,:\\s]\\s*',s[0])\n",
    "    #print(parts)\n",
    "    try:\n",
    "        j=2\n",
    "        while True:\n",
    "            sending=([parts[0],parts[1],parts[j],parts[j+1]]) \n",
    "            #print(\"sending\",sending)\n",
    "            j+=2  \n",
    "            yield(sending)\n",
    "    except IndexError:\n",
    "        raise\n",
    "        yield\n",
    "    \n",
    "Start = time.clock()              \n",
    "while NewYork_Data_list !=[]:            \n",
    "    generator=insert_data() \n",
    "    #print(\"\\033[35m 開始 \\033[0m\")\n",
    "    while True:\n",
    "        try:\n",
    "            received=next(generator)\n",
    "            #print(\"received\",received)\n",
    "        except IndexError:\n",
    "        #if received == None:\n",
    "            break\n",
    "        else:\n",
    "            #print(received)\n",
    "            #正在處理的這一筆資料\n",
    "            dealing=received\n",
    "            #各項分別代表的意義\n",
    "            human=dealing[0]\n",
    "            #workingday=dealing[1]\n",
    "            address=dealing[2]\n",
    "            #time=dealing[3]\n",
    "            update(human,address)\n",
    "            #print(\"繼續\")\n",
    "    #print(\"結束\")\n",
    "End =time.clock()    \n",
    "print((End-Start)*1000,\"ms\")\n",
    "    "
   ]
  },
  {
   "cell_type": "code",
   "execution_count": null,
   "metadata": {
    "collapsed": true
   },
   "outputs": [],
   "source": [
    "#def tail_connect_evo(key):\n",
    "  #  body=list[key]\n",
    "  #  tail_connect(body,loc_to_num)\n",
    "  #  return\n",
    "\n",
    "#key_list=list(user_loc.keys())\n",
    "#map(tail_connect_evo,key_list)"
   ]
  },
  {
   "cell_type": "code",
   "execution_count": null,
   "metadata": {
    "collapsed": true
   },
   "outputs": [],
   "source": [
    "Neighbor=1 #eval(input(\"Neighbor:\"))\n",
    "#base(key)\n",
    "Vector=rd.choice(list(Data_dict.keys()))\n",
    "#\"44339\"\n",
    "#span(value)\n",
    "Component='4ace6c89f964a52078d020e3'"
   ]
  },
  {
   "cell_type": "code",
   "execution_count": null,
   "metadata": {
    "collapsed": true
   },
   "outputs": [],
   "source": [
    "#此公式不會修改list&dict\n",
    "def deviation(vector,component=Component,data_dict=Data_dict,table_list=Table_list):\n",
    "    valuelist=data_dict[vector]\n",
    "    deviation=valuelist[table_list.index(component)]-np.mean(data_dict[vector])\n",
    "    return deviation\n",
    "##################################ok##########################################\n",
    "#該func會改變dict中list的長度\n",
    "def sim(vector_a,vector_b,component=Component,data_dict=Data_dict,table_list=Table_list):\n",
    "  \n",
    "    valuelist_a=data_dict[vector_a]\n",
    "    valuelist_b=data_dict[vector_b]\n",
    "    \n",
    "    denominator_a=\\\n",
    "    np.dot(valuelist_a,valuelist_a)    \n",
    "    denominator_b=\\\n",
    "    np.dot(valuelist_b,valuelist_b)    \n",
    "   \n",
    "    try:   \n",
    "        numerator=np.dot(valuelist_a,valuelist_b)\n",
    "    except ValueError:\n",
    "        tail_connect(body=valuelist_a,tail=table_list) \n",
    "        tail_connect(body=valuelist_b,tail=table_list)\n",
    "        numerator=np.dot(valuelist_a,valuelist_b)\n",
    "    except Exception:\n",
    "        print(\"sim_evo發生錯誤\")\n",
    "    finally:   \n",
    "        sim=numerator/((denominator_a**0.5)*(denominator_b**0.5)) \n",
    "    return sim\n",
    "\n",
    "def sim_evo(vector):\n",
    "    sim_evo=sim(vector,Vector)\n",
    "    return sim_evo\n",
    "##############################################################################\n",
    "def neighbor_list(neighbor=Neighbor,\\\n",
    "                  data_dict=Data_dict,table_list=Table_list,\\\n",
    "                  vector=Vector,component=Component,):\n",
    "    memberlist=list(data_dict.keys())#人名\n",
    "    simlist=list(map(lambda ml:sim(vector_a=ml,\\\n",
    "                                   vector_b=vector,\\\n",
    "                                   component=component,\\\n",
    "                                   data_dict=data_dict,\\\n",
    "                                   table_list=table_list),\\\n",
    "                     memberlist))#其sim\n",
    "    neighbor_member_list=[] \n",
    "    neighbor_sim_list=[]\n",
    "    \n",
    "    for i in range(neighbor):\n",
    "        del memberlist[simlist.index(max(simlist))]\n",
    "        del simlist[simlist.index(max(simlist))]\n",
    "        neighbor_member_list.append(memberlist[simlist.index(max(simlist))])#人名\n",
    "        neighbor_sim_list.append(simlist[simlist.index(max(simlist))])#其sim值\n",
    "\n",
    "    return neighbor_sim_list,neighbor_member_list\n",
    "Neighbor_sim_list,Neighbor_member_list=neighbor_list()\n",
    "##############################################################################\n",
    "def predict(vector=Vector,component=Component,\\\n",
    "            data_dict=Data_dict,table_list=Table_list,\\\n",
    "            neighbor_sim_list=Neighbor_sim_list,\\\n",
    "            neighbor_member_list=Neighbor_member_list):\n",
    "    \n",
    "    #memberlist=[]\n",
    "    #simlist=[]\n",
    "    sigmaupper=0\n",
    "    sigmalower=0\n",
    "    \n",
    "    deviation_list=list(map(lambda nml:deviation(vector=nml,\\\n",
    "                                                 component=component,\\\n",
    "                                                 data_dict=data_dict,\\\n",
    "                                                 table_list=table_list\\\n",
    "                                                ),neighbor_member_list))\n",
    "\n",
    "    sigmaupper=np.dot(deviation_list,neighbor_sim_list)       \n",
    "    sigmalower=np.sum(neighbor_sim_list)\n",
    "    #print(sigmaupper)\n",
    "    #print(sigmalower)\n",
    "    predict=(sigmaupper/sigmalower)+np.mean(data_dict[vector])\n",
    "    return predict\n"
   ]
  },
  {
   "cell_type": "code",
   "execution_count": null,
   "metadata": {
    "collapsed": true
   },
   "outputs": [],
   "source": [
    "N=100 #eval(input(\"N:\"))\n",
    "def parts(vector,component,\\\n",
    "         data_dict=Data_dict,table_list=Table_list):\n",
    "    if vector == \"\" :\n",
    "        vector=rd.choice(list(data_dict.keys()))\n",
    "    if component == \"\":\n",
    "        component_index=rd.randint(0,len(data_dict[vector])-1)\n",
    "        component=table_list[component_index]\n",
    "    parts=predict(vector,component)-data_dict[vector][component_index]\n",
    "    #print(\"##\",component)#\n",
    "    return parts\n",
    "\n",
    "def me(vector=\"\",component=\"\",\\\n",
    "       n=N,\\\n",
    "       data_dict=Data_dict,table_list=Table_list):\n",
    "    sigmame=0\n",
    "    for i in range(n):        \n",
    "        sigmame=sigmame+parts(vector,component,data_dict,table_list)\n",
    "        #print(\"**\",component)#\n",
    "        #print(sigmame)#\n",
    "    me=sigmame/n\n",
    "    return me\n",
    "\n",
    "\n",
    "#print(sim_evo(\"44339\"))\n",
    "#print(mean(\"44339\"))\n",
    "#print(mean(\"44331\"))\n",
    "#print(Data[\"44339\"])\n",
    "#print(Data[\"44331\"])"
   ]
  },
  {
   "cell_type": "code",
   "execution_count": null,
   "metadata": {
    "collapsed": true
   },
   "outputs": [],
   "source": [
    "#Vector=rd.choice(list(Data_dict.keys()))\n",
    "#Component=rd.choice(Table_list) "
   ]
  },
  {
   "cell_type": "code",
   "execution_count": null,
   "metadata": {},
   "outputs": [],
   "source": [
    "Neighbor_sim_list,Neighbor_member_list=neighbor_list(vector=Vector)\n",
    "me(vector=Vector)"
   ]
  },
  {
   "cell_type": "code",
   "execution_count": 176,
   "metadata": {
    "collapsed": true
   },
   "outputs": [],
   "source": []
  },
  {
   "cell_type": "code",
   "execution_count": null,
   "metadata": {
    "collapsed": true
   },
   "outputs": [],
   "source": []
  },
  {
   "cell_type": "code",
   "execution_count": null,
   "metadata": {
    "collapsed": true
   },
   "outputs": [],
   "source": []
  },
  {
   "cell_type": "code",
   "execution_count": null,
   "metadata": {
    "collapsed": true
   },
   "outputs": [],
   "source": []
  },
  {
   "cell_type": "code",
   "execution_count": null,
   "metadata": {
    "collapsed": true
   },
   "outputs": [],
   "source": []
  },
  {
   "cell_type": "code",
   "execution_count": null,
   "metadata": {
    "collapsed": true
   },
   "outputs": [],
   "source": []
  }
 ],
 "metadata": {
  "kernelspec": {
   "display_name": "Python 3",
   "language": "python",
   "name": "python3"
  },
  "language_info": {
   "codemirror_mode": {
    "name": "ipython",
    "version": 3
   },
   "file_extension": ".py",
   "mimetype": "text/x-python",
   "name": "python",
   "nbconvert_exporter": "python",
   "pygments_lexer": "ipython3",
   "version": "3.6.3"
  }
 },
 "nbformat": 4,
 "nbformat_minor": 2
}
