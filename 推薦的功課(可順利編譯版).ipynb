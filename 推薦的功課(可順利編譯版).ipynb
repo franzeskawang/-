{
 "cells": [
  {
   "cell_type": "code",
   "execution_count": 26,
   "metadata": {},
   "outputs": [
    {
     "name": "stdout",
     "output_type": "stream",
     "text": [
      "2\n",
      "yayaya\n",
      "[{'movie1': 3, 'movie2': 0, 'movie3': 3, 'movie4': 3}, {'movie1': 5, 'movie2': 4, 'movie3': 0, 'movie4': 2}, {'movie1': 1, 'movie2': 2, 'movie3': 4, 'movie4': 2}, {'movie1': 3, 'movie2': '', 'movie3': 1, 'movie4': 0}, {'movie1': 2, 'movie2': 2, 'movie3': 0, 'movie4': 1}]\n",
      "[0.73029674334022132, 0.88083032927205518, 0.48304589153964794, 0.99999999999999978, 0.84852813742385691]\n",
      "0.880830329272\n",
      "1.25\n",
      "0.848528137424\n",
      "0.75\n"
     ]
    },
    {
     "data": {
      "text/plain": [
       "2.338003011782058"
      ]
     },
     "execution_count": 26,
     "metadata": {},
     "output_type": "execute_result"
    }
   ],
   "source": [
    "%matplotlib inline\n",
    "import numpy as np\n",
    "import matplotlib.pyplot as plt\n",
    "\n",
    "#jane as user4\n",
    "user1=dict(movie1=3,movie2=0,movie3=3,movie4=3)\n",
    "user2=dict(movie1=5,movie2=4,movie3=0,movie4=2)\n",
    "user3=dict(movie1=1,movie2=2,movie3=4,movie4=2)\n",
    "user4=dict(movie1=3,movie2=\"\",movie3=1,movie4=0)#\n",
    "user5=dict(movie1=2,movie2=2,movie3=0,movie4=1)\n",
    "Usertuple=tuple([user1,user2,user3,user4,user5])#\n",
    "N=2 #eval(input(\"N:\"))\n",
    "Vector=user4 #eval(input(\"Vector:\"))\n",
    "Component=\"movie2\" #input(\"Component:\")\n",
    "print(N)\n",
    "def mean(vector):\n",
    "    \n",
    "    list0=list(dict.values(vector))\n",
    "    \n",
    "    while '' in list0:\n",
    "        list0.remove('')\n",
    "        \n",
    "    mean=np.mean(list0)\n",
    "    return mean  \n",
    "\n",
    "def deviation(vector,component=Component):\n",
    "    \n",
    "    deviation=vector[component]-mean(vector)\n",
    "    return deviation\n",
    "def sim(vector_a,vector_b,component):\n",
    "  \n",
    "    reg_a=vector_a[component]\n",
    "    reg_b=vector_b[component]\n",
    "    vector_a[component]=0\n",
    "    vector_b[component]=0\n",
    "    numerator=\\\n",
    "    np.dot(list(dict.values(vector_a)),list(dict.values(vector_b)))    \n",
    "    denominator_a=\\\n",
    "    np.dot(list(dict.values(vector_a)),list(dict.values(vector_a)))    \n",
    "    denominator_b=\\\n",
    "    np.dot(list(dict.values(vector_b)),list(dict.values(vector_b)))    \n",
    "    sim=numerator/((denominator_a**0.5)*(denominator_b**0.5)) \n",
    "    vector_a[component]=reg_a\n",
    "    vector_b[component]=reg_b\n",
    "    return sim\n",
    "\n",
    "def sim_evo(vector):\n",
    "    sim_evo=sim(vector,Vector,Component)\n",
    "    return sim_evo\n",
    "\n",
    "def predict(n,vector,component):\n",
    "    \n",
    "    memberlist=[]\n",
    "    simlist=[]\n",
    "    \n",
    "    if vector in Usertuple:\n",
    "        print(\"yayaya\")\n",
    "        memberlist=list(Usertuple)\n",
    "        print(memberlist)\n",
    "        simlist=list(map(sim_evo,memberlist))#\n",
    "        print (simlist)\n",
    "    else:\n",
    "        \n",
    "        print(\"nonono\")\n",
    "        \n",
    "    sigmaupper=0\n",
    "    sigmalower=0\n",
    "    \n",
    "    for i in range(N):\n",
    "        del memberlist[simlist.index(max(simlist))]\n",
    "        simlist.remove(max(simlist))\n",
    "        print (max(simlist))\n",
    "        print(deviation(memberlist[simlist.index(max(simlist))]))\n",
    "        sigmaupper=sigmaupper+deviation(memberlist[simlist.index(max(simlist))],component)*max(simlist)\n",
    "        sigmalower=sigmalower+max(simlist)\n",
    "    \n",
    "    predict=sigmaupper/sigmalower+mean(vector)\n",
    "    return predict\n",
    " \n",
    "predict(N,Vector,Component)\n",
    "    "
   ]
  },
  {
   "cell_type": "code",
   "execution_count": null,
   "metadata": {
    "collapsed": true
   },
   "outputs": [],
   "source": [
    "Q=[0,0,0]\n",
    "Q\n"
   ]
  },
  {
   "cell_type": "code",
   "execution_count": null,
   "metadata": {
    "collapsed": true
   },
   "outputs": [],
   "source": []
  },
  {
   "cell_type": "code",
   "execution_count": null,
   "metadata": {
    "collapsed": true
   },
   "outputs": [],
   "source": []
  }
 ],
 "metadata": {
  "kernelspec": {
   "display_name": "Python 3",
   "language": "python",
   "name": "python3"
  },
  "language_info": {
   "codemirror_mode": {
    "name": "ipython",
    "version": 3
   },
   "file_extension": ".py",
   "mimetype": "text/x-python",
   "name": "python",
   "nbconvert_exporter": "python",
   "pygments_lexer": "ipython3",
   "version": "3.6.3"
  }
 },
 "nbformat": 4,
 "nbformat_minor": 2
}
